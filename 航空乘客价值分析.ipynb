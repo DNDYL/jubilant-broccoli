{
 "cells": [
  {
   "cell_type": "code",
   "execution_count": 1,
   "metadata": {},
   "outputs": [],
   "source": [
    "import numpy as np\n",
    "import pandas as pd\n",
    "\n",
    "import seaborn as sns\n",
    "import matplotlib.pyplot as plt"
   ]
  },
  {
   "cell_type": "code",
   "execution_count": 2,
   "metadata": {},
   "outputs": [],
   "source": [
    "data = pd.read_csv(r'data/2/air_data.csv')"
   ]
  },
  {
   "cell_type": "code",
   "execution_count": 3,
   "metadata": {},
   "outputs": [
    {
     "name": "stdout",
     "output_type": "stream",
     "text": [
      "<class 'pandas.core.frame.DataFrame'>\n",
      "RangeIndex: 15000 entries, 0 to 14999\n",
      "Data columns (total 8 columns):\n",
      " #   Column          Non-Null Count  Dtype  \n",
      "---  ------          --------------  -----  \n",
      " 0   Start_time      15000 non-null  object \n",
      " 1   End_time        15000 non-null  object \n",
      " 2   Fare            14989 non-null  float64\n",
      " 3   City            14490 non-null  object \n",
      " 4   Age             14907 non-null  float64\n",
      " 5   Flight_count    15000 non-null  int64  \n",
      " 6   Avg_discount    15000 non-null  float64\n",
      " 7   Flight_mileage  15000 non-null  int64  \n",
      "dtypes: float64(3), int64(2), object(3)\n",
      "memory usage: 937.6+ KB\n"
     ]
    }
   ],
   "source": [
    "data.info()"
   ]
  },
  {
   "cell_type": "code",
   "execution_count": 4,
   "metadata": {},
   "outputs": [
    {
     "data": {
      "text/html": [
       "<div>\n",
       "<style scoped>\n",
       "    .dataframe tbody tr th:only-of-type {\n",
       "        vertical-align: middle;\n",
       "    }\n",
       "\n",
       "    .dataframe tbody tr th {\n",
       "        vertical-align: top;\n",
       "    }\n",
       "\n",
       "    .dataframe thead th {\n",
       "        text-align: right;\n",
       "    }\n",
       "</style>\n",
       "<table border=\"1\" class=\"dataframe\">\n",
       "  <thead>\n",
       "    <tr style=\"text-align: right;\">\n",
       "      <th></th>\n",
       "      <th>Start_time</th>\n",
       "      <th>End_time</th>\n",
       "      <th>Fare</th>\n",
       "      <th>City</th>\n",
       "      <th>Age</th>\n",
       "      <th>Flight_count</th>\n",
       "      <th>Avg_discount</th>\n",
       "      <th>Flight_mileage</th>\n",
       "    </tr>\n",
       "  </thead>\n",
       "  <tbody>\n",
       "    <tr>\n",
       "      <th>0</th>\n",
       "      <td>2011/08/18</td>\n",
       "      <td>2014/03/31</td>\n",
       "      <td>5860.0</td>\n",
       "      <td>.</td>\n",
       "      <td>35.0</td>\n",
       "      <td>10</td>\n",
       "      <td>0.973129</td>\n",
       "      <td>12560</td>\n",
       "    </tr>\n",
       "    <tr>\n",
       "      <th>1</th>\n",
       "      <td>2011/01/13</td>\n",
       "      <td>2014/03/31</td>\n",
       "      <td>5561.0</td>\n",
       "      <td>佛山</td>\n",
       "      <td>35.0</td>\n",
       "      <td>12</td>\n",
       "      <td>0.575906</td>\n",
       "      <td>21223</td>\n",
       "    </tr>\n",
       "    <tr>\n",
       "      <th>2</th>\n",
       "      <td>2012/08/15</td>\n",
       "      <td>2014/03/31</td>\n",
       "      <td>1089.0</td>\n",
       "      <td>北京</td>\n",
       "      <td>33.0</td>\n",
       "      <td>9</td>\n",
       "      <td>0.635025</td>\n",
       "      <td>19246</td>\n",
       "    </tr>\n",
       "    <tr>\n",
       "      <th>3</th>\n",
       "      <td>2012/10/17</td>\n",
       "      <td>2014/03/31</td>\n",
       "      <td>9626.0</td>\n",
       "      <td>绍兴县</td>\n",
       "      <td>53.0</td>\n",
       "      <td>7</td>\n",
       "      <td>0.868571</td>\n",
       "      <td>14070</td>\n",
       "    </tr>\n",
       "    <tr>\n",
       "      <th>4</th>\n",
       "      <td>2011/09/04</td>\n",
       "      <td>2014/03/31</td>\n",
       "      <td>4473.0</td>\n",
       "      <td>上海</td>\n",
       "      <td>34.0</td>\n",
       "      <td>13</td>\n",
       "      <td>0.703419</td>\n",
       "      <td>17373</td>\n",
       "    </tr>\n",
       "  </tbody>\n",
       "</table>\n",
       "</div>"
      ],
      "text/plain": [
       "   Start_time    End_time    Fare City   Age  Flight_count  Avg_discount  \\\n",
       "0  2011/08/18  2014/03/31  5860.0    .  35.0            10      0.973129   \n",
       "1  2011/01/13  2014/03/31  5561.0   佛山  35.0            12      0.575906   \n",
       "2  2012/08/15  2014/03/31  1089.0   北京  33.0             9      0.635025   \n",
       "3  2012/10/17  2014/03/31  9626.0  绍兴县  53.0             7      0.868571   \n",
       "4  2011/09/04  2014/03/31  4473.0   上海  34.0            13      0.703419   \n",
       "\n",
       "   Flight_mileage  \n",
       "0           12560  \n",
       "1           21223  \n",
       "2           19246  \n",
       "3           14070  \n",
       "4           17373  "
      ]
     },
     "execution_count": 4,
     "metadata": {},
     "output_type": "execute_result"
    }
   ],
   "source": [
    "data.head()"
   ]
  },
  {
   "cell_type": "code",
   "execution_count": 5,
   "metadata": {},
   "outputs": [
    {
     "data": {
      "text/html": [
       "<div>\n",
       "<style scoped>\n",
       "    .dataframe tbody tr th:only-of-type {\n",
       "        vertical-align: middle;\n",
       "    }\n",
       "\n",
       "    .dataframe tbody tr th {\n",
       "        vertical-align: top;\n",
       "    }\n",
       "\n",
       "    .dataframe thead th {\n",
       "        text-align: right;\n",
       "    }\n",
       "</style>\n",
       "<table border=\"1\" class=\"dataframe\">\n",
       "  <thead>\n",
       "    <tr style=\"text-align: right;\">\n",
       "      <th></th>\n",
       "      <th>Fare</th>\n",
       "      <th>Age</th>\n",
       "      <th>Flight_count</th>\n",
       "      <th>Avg_discount</th>\n",
       "      <th>Flight_mileage</th>\n",
       "    </tr>\n",
       "  </thead>\n",
       "  <tbody>\n",
       "    <tr>\n",
       "      <th>count</th>\n",
       "      <td>14989.000000</td>\n",
       "      <td>14907.000000</td>\n",
       "      <td>15000.000000</td>\n",
       "      <td>15000.000000</td>\n",
       "      <td>15000.000000</td>\n",
       "    </tr>\n",
       "    <tr>\n",
       "      <th>mean</th>\n",
       "      <td>3761.743812</td>\n",
       "      <td>42.569531</td>\n",
       "      <td>9.057600</td>\n",
       "      <td>0.728391</td>\n",
       "      <td>12395.706800</td>\n",
       "    </tr>\n",
       "    <tr>\n",
       "      <th>std</th>\n",
       "      <td>2720.206579</td>\n",
       "      <td>9.807385</td>\n",
       "      <td>3.946338</td>\n",
       "      <td>0.163550</td>\n",
       "      <td>3588.357291</td>\n",
       "    </tr>\n",
       "    <tr>\n",
       "      <th>min</th>\n",
       "      <td>0.000000</td>\n",
       "      <td>16.000000</td>\n",
       "      <td>2.000000</td>\n",
       "      <td>0.136017</td>\n",
       "      <td>4040.000000</td>\n",
       "    </tr>\n",
       "    <tr>\n",
       "      <th>25%</th>\n",
       "      <td>1709.000000</td>\n",
       "      <td>35.000000</td>\n",
       "      <td>6.000000</td>\n",
       "      <td>0.625525</td>\n",
       "      <td>9747.000000</td>\n",
       "    </tr>\n",
       "    <tr>\n",
       "      <th>50%</th>\n",
       "      <td>3580.000000</td>\n",
       "      <td>41.000000</td>\n",
       "      <td>8.000000</td>\n",
       "      <td>0.713322</td>\n",
       "      <td>11986.500000</td>\n",
       "    </tr>\n",
       "    <tr>\n",
       "      <th>75%</th>\n",
       "      <td>5452.000000</td>\n",
       "      <td>48.000000</td>\n",
       "      <td>11.000000</td>\n",
       "      <td>0.803840</td>\n",
       "      <td>14654.000000</td>\n",
       "    </tr>\n",
       "    <tr>\n",
       "      <th>max</th>\n",
       "      <td>36602.000000</td>\n",
       "      <td>110.000000</td>\n",
       "      <td>47.000000</td>\n",
       "      <td>1.500000</td>\n",
       "      <td>50758.000000</td>\n",
       "    </tr>\n",
       "  </tbody>\n",
       "</table>\n",
       "</div>"
      ],
      "text/plain": [
       "               Fare           Age  Flight_count  Avg_discount  Flight_mileage\n",
       "count  14989.000000  14907.000000  15000.000000  15000.000000    15000.000000\n",
       "mean    3761.743812     42.569531      9.057600      0.728391    12395.706800\n",
       "std     2720.206579      9.807385      3.946338      0.163550     3588.357291\n",
       "min        0.000000     16.000000      2.000000      0.136017     4040.000000\n",
       "25%     1709.000000     35.000000      6.000000      0.625525     9747.000000\n",
       "50%     3580.000000     41.000000      8.000000      0.713322    11986.500000\n",
       "75%     5452.000000     48.000000     11.000000      0.803840    14654.000000\n",
       "max    36602.000000    110.000000     47.000000      1.500000    50758.000000"
      ]
     },
     "execution_count": 5,
     "metadata": {},
     "output_type": "execute_result"
    }
   ],
   "source": [
    "data.describe()"
   ]
  },
  {
   "cell_type": "code",
   "execution_count": 6,
   "metadata": {},
   "outputs": [],
   "source": [
    "data = data[data.Fare.notnull() & data.Fare != 0]"
   ]
  },
  {
   "cell_type": "code",
   "execution_count": 7,
   "metadata": {},
   "outputs": [
    {
     "data": {
      "text/html": [
       "<div>\n",
       "<style scoped>\n",
       "    .dataframe tbody tr th:only-of-type {\n",
       "        vertical-align: middle;\n",
       "    }\n",
       "\n",
       "    .dataframe tbody tr th {\n",
       "        vertical-align: top;\n",
       "    }\n",
       "\n",
       "    .dataframe thead th {\n",
       "        text-align: right;\n",
       "    }\n",
       "</style>\n",
       "<table border=\"1\" class=\"dataframe\">\n",
       "  <thead>\n",
       "    <tr style=\"text-align: right;\">\n",
       "      <th></th>\n",
       "      <th>Fare</th>\n",
       "      <th>Age</th>\n",
       "      <th>Flight_count</th>\n",
       "      <th>Avg_discount</th>\n",
       "      <th>Flight_mileage</th>\n",
       "    </tr>\n",
       "  </thead>\n",
       "  <tbody>\n",
       "    <tr>\n",
       "      <th>count</th>\n",
       "      <td>13279.000000</td>\n",
       "      <td>13199.000000</td>\n",
       "      <td>13279.000000</td>\n",
       "      <td>13279.000000</td>\n",
       "      <td>13279.000000</td>\n",
       "    </tr>\n",
       "    <tr>\n",
       "      <th>mean</th>\n",
       "      <td>4246.161458</td>\n",
       "      <td>42.689219</td>\n",
       "      <td>9.245500</td>\n",
       "      <td>0.726065</td>\n",
       "      <td>12491.482792</td>\n",
       "    </tr>\n",
       "    <tr>\n",
       "      <th>std</th>\n",
       "      <td>2509.062979</td>\n",
       "      <td>9.833271</td>\n",
       "      <td>3.934772</td>\n",
       "      <td>0.160491</td>\n",
       "      <td>3596.446668</td>\n",
       "    </tr>\n",
       "    <tr>\n",
       "      <th>min</th>\n",
       "      <td>173.000000</td>\n",
       "      <td>16.000000</td>\n",
       "      <td>2.000000</td>\n",
       "      <td>0.136017</td>\n",
       "      <td>4040.000000</td>\n",
       "    </tr>\n",
       "    <tr>\n",
       "      <th>25%</th>\n",
       "      <td>2400.000000</td>\n",
       "      <td>35.000000</td>\n",
       "      <td>7.000000</td>\n",
       "      <td>0.624644</td>\n",
       "      <td>9832.500000</td>\n",
       "    </tr>\n",
       "    <tr>\n",
       "      <th>50%</th>\n",
       "      <td>3981.000000</td>\n",
       "      <td>41.000000</td>\n",
       "      <td>9.000000</td>\n",
       "      <td>0.712388</td>\n",
       "      <td>12100.000000</td>\n",
       "    </tr>\n",
       "    <tr>\n",
       "      <th>75%</th>\n",
       "      <td>5697.000000</td>\n",
       "      <td>48.000000</td>\n",
       "      <td>11.000000</td>\n",
       "      <td>0.803339</td>\n",
       "      <td>14749.000000</td>\n",
       "    </tr>\n",
       "    <tr>\n",
       "      <th>max</th>\n",
       "      <td>36602.000000</td>\n",
       "      <td>110.000000</td>\n",
       "      <td>47.000000</td>\n",
       "      <td>1.500000</td>\n",
       "      <td>50758.000000</td>\n",
       "    </tr>\n",
       "  </tbody>\n",
       "</table>\n",
       "</div>"
      ],
      "text/plain": [
       "               Fare           Age  Flight_count  Avg_discount  Flight_mileage\n",
       "count  13279.000000  13199.000000  13279.000000  13279.000000    13279.000000\n",
       "mean    4246.161458     42.689219      9.245500      0.726065    12491.482792\n",
       "std     2509.062979      9.833271      3.934772      0.160491     3596.446668\n",
       "min      173.000000     16.000000      2.000000      0.136017     4040.000000\n",
       "25%     2400.000000     35.000000      7.000000      0.624644     9832.500000\n",
       "50%     3981.000000     41.000000      9.000000      0.712388    12100.000000\n",
       "75%     5697.000000     48.000000     11.000000      0.803339    14749.000000\n",
       "max    36602.000000    110.000000     47.000000      1.500000    50758.000000"
      ]
     },
     "execution_count": 7,
     "metadata": {},
     "output_type": "execute_result"
    }
   ],
   "source": [
    "data.describe()"
   ]
  },
  {
   "cell_type": "code",
   "execution_count": 8,
   "metadata": {},
   "outputs": [],
   "source": [
    "for index, item in data.iterrows():\n",
    "    start_year, start_month = item['Start_time'].split('/')[:2]\n",
    "    end_year, end_month = item['End_time'].split('/')[:2]\n",
    "    data.loc[index,'Months'] = (int(end_year)-int(start_year))*12 + (int(end_month)-int(start_month))"
   ]
  },
  {
   "cell_type": "code",
   "execution_count": 9,
   "metadata": {},
   "outputs": [],
   "source": [
    "data.drop(['Start_time','End_time'],axis=1, inplace=True)\n",
    "data.drop(['City'], axis=1, inplace=True)\n",
    "data = (data - data.mean(axis=0))/ data.std(axis=0)"
   ]
  },
  {
   "cell_type": "code",
   "execution_count": 10,
   "metadata": {},
   "outputs": [
    {
     "name": "stdout",
     "output_type": "stream",
     "text": [
      "<class 'pandas.core.frame.DataFrame'>\n",
      "Int64Index: 13279 entries, 0 to 14998\n",
      "Data columns (total 6 columns):\n",
      " #   Column          Non-Null Count  Dtype  \n",
      "---  ------          --------------  -----  \n",
      " 0   Fare            13279 non-null  float64\n",
      " 1   Age             13199 non-null  float64\n",
      " 2   Flight_count    13279 non-null  float64\n",
      " 3   Avg_discount    13279 non-null  float64\n",
      " 4   Flight_mileage  13279 non-null  float64\n",
      " 5   Months          13279 non-null  float64\n",
      "dtypes: float64(6)\n",
      "memory usage: 1.2 MB\n"
     ]
    }
   ],
   "source": [
    "data.info()"
   ]
  },
  {
   "cell_type": "code",
   "execution_count": 11,
   "metadata": {},
   "outputs": [
    {
     "data": {
      "text/html": [
       "<div>\n",
       "<style scoped>\n",
       "    .dataframe tbody tr th:only-of-type {\n",
       "        vertical-align: middle;\n",
       "    }\n",
       "\n",
       "    .dataframe tbody tr th {\n",
       "        vertical-align: top;\n",
       "    }\n",
       "\n",
       "    .dataframe thead th {\n",
       "        text-align: right;\n",
       "    }\n",
       "</style>\n",
       "<table border=\"1\" class=\"dataframe\">\n",
       "  <thead>\n",
       "    <tr style=\"text-align: right;\">\n",
       "      <th></th>\n",
       "      <th>Fare</th>\n",
       "      <th>Age</th>\n",
       "      <th>Flight_count</th>\n",
       "      <th>Avg_discount</th>\n",
       "      <th>Flight_mileage</th>\n",
       "      <th>Months</th>\n",
       "    </tr>\n",
       "  </thead>\n",
       "  <tbody>\n",
       "    <tr>\n",
       "      <th>0</th>\n",
       "      <td>0.643204</td>\n",
       "      <td>-0.781959</td>\n",
       "      <td>0.191752</td>\n",
       "      <td>1.539425</td>\n",
       "      <td>0.019051</td>\n",
       "      <td>-0.616333</td>\n",
       "    </tr>\n",
       "    <tr>\n",
       "      <th>1</th>\n",
       "      <td>0.524036</td>\n",
       "      <td>-0.781959</td>\n",
       "      <td>0.700041</td>\n",
       "      <td>-0.935625</td>\n",
       "      <td>2.427818</td>\n",
       "      <td>-0.357005</td>\n",
       "    </tr>\n",
       "    <tr>\n",
       "      <th>2</th>\n",
       "      <td>-1.258303</td>\n",
       "      <td>-0.985351</td>\n",
       "      <td>-0.062393</td>\n",
       "      <td>-0.567261</td>\n",
       "      <td>1.878109</td>\n",
       "      <td>-1.060895</td>\n",
       "    </tr>\n",
       "    <tr>\n",
       "      <th>3</th>\n",
       "      <td>2.144162</td>\n",
       "      <td>1.048561</td>\n",
       "      <td>-0.570681</td>\n",
       "      <td>0.887939</td>\n",
       "      <td>0.438910</td>\n",
       "      <td>-1.134989</td>\n",
       "    </tr>\n",
       "    <tr>\n",
       "      <th>4</th>\n",
       "      <td>0.090408</td>\n",
       "      <td>-0.883655</td>\n",
       "      <td>0.954185</td>\n",
       "      <td>-0.141105</td>\n",
       "      <td>1.357317</td>\n",
       "      <td>-0.653379</td>\n",
       "    </tr>\n",
       "  </tbody>\n",
       "</table>\n",
       "</div>"
      ],
      "text/plain": [
       "       Fare       Age  Flight_count  Avg_discount  Flight_mileage    Months\n",
       "0  0.643204 -0.781959      0.191752      1.539425        0.019051 -0.616333\n",
       "1  0.524036 -0.781959      0.700041     -0.935625        2.427818 -0.357005\n",
       "2 -1.258303 -0.985351     -0.062393     -0.567261        1.878109 -1.060895\n",
       "3  2.144162  1.048561     -0.570681      0.887939        0.438910 -1.134989\n",
       "4  0.090408 -0.883655      0.954185     -0.141105        1.357317 -0.653379"
      ]
     },
     "execution_count": 11,
     "metadata": {},
     "output_type": "execute_result"
    }
   ],
   "source": [
    "data.head()"
   ]
  },
  {
   "cell_type": "code",
   "execution_count": 12,
   "metadata": {},
   "outputs": [
    {
     "data": {
      "text/plain": [
       "<AxesSubplot: title={'center': 'Pearson Correlation of Features'}>"
      ]
     },
     "execution_count": 12,
     "metadata": {},
     "output_type": "execute_result"
    },
    {
     "data": {
      "image/png": "[encoded data removed]",
      "text/plain": [
       "<Figure size 1000x1000 with 2 Axes>"
      ]
     },
     "metadata": {},
     "output_type": "display_data"
    }
   ],
   "source": [
    "plt.figure(figsize=(10,10))\n",
    "plt.title(\"Pearson Correlation of Features\", y=1.05, size=15)\n",
    "sns.heatmap(data.astype(float).corr(),linewidths=0.1,vmax=1.0, \n",
    "            square=True, cmap=plt.cm.viridis, linecolor='white', annot=True)"
   ]
  },
  {
   "cell_type": "code",
   "execution_count": 13,
   "metadata": {},
   "outputs": [],
   "source": [
    "data = data.drop(['Fare','Age'],axis=1)"
   ]
  },
  {
   "cell_type": "code",
   "execution_count": 14,
   "metadata": {},
   "outputs": [],
   "source": [
    "from sklearn.cluster import KMeans"
   ]
  },
  {
   "cell_type": "code",
   "execution_count": 28,
   "metadata": {},
   "outputs": [],
   "source": [
    "kmeans = KMeans(n_clusters=3,n_init=10).fit(data)"
   ]
  },
  {
   "cell_type": "code",
   "execution_count": 29,
   "metadata": {},
   "outputs": [
    {
     "data": {
      "text/plain": [
       "array([[-0.09521206,  0.01091561, -0.15267825,  1.23850277],\n",
       "       [-0.55286674,  0.5170941 , -0.68403892, -0.59398019],\n",
       "       [ 0.7664525 , -0.64966247,  0.97829365, -0.3296473 ]])"
      ]
     },
     "execution_count": 29,
     "metadata": {},
     "output_type": "execute_result"
    }
   ],
   "source": [
    "kmeans.cluster_centers_"
   ]
  },
  {
   "cell_type": "code",
   "execution_count": 30,
   "metadata": {},
   "outputs": [
    {
     "data": {
      "text/plain": [
       "array([1, 2, 2, ..., 1, 0, 1])"
      ]
     },
     "execution_count": 30,
     "metadata": {},
     "output_type": "execute_result"
    }
   ],
   "source": [
    "kmeans.labels_"
   ]
  },
  {
   "cell_type": "code",
   "execution_count": 36,
   "metadata": {},
   "outputs": [
    {
     "data": {
      "text/html": [
       "<div>\n",
       "<style scoped>\n",
       "    .dataframe tbody tr th:only-of-type {\n",
       "        vertical-align: middle;\n",
       "    }\n",
       "\n",
       "    .dataframe tbody tr th {\n",
       "        vertical-align: top;\n",
       "    }\n",
       "\n",
       "    .dataframe thead th {\n",
       "        text-align: right;\n",
       "    }\n",
       "</style>\n",
       "<table border=\"1\" class=\"dataframe\">\n",
       "  <thead>\n",
       "    <tr style=\"text-align: right;\">\n",
       "      <th></th>\n",
       "      <th>Flight_count</th>\n",
       "      <th>Avg_discount</th>\n",
       "      <th>Flight_mileage</th>\n",
       "      <th>Months</th>\n",
       "    </tr>\n",
       "  </thead>\n",
       "  <tbody>\n",
       "    <tr>\n",
       "      <th>0</th>\n",
       "      <td>0.191752</td>\n",
       "      <td>1.539425</td>\n",
       "      <td>0.019051</td>\n",
       "      <td>-0.616333</td>\n",
       "    </tr>\n",
       "    <tr>\n",
       "      <th>1</th>\n",
       "      <td>0.700041</td>\n",
       "      <td>-0.935625</td>\n",
       "      <td>2.427818</td>\n",
       "      <td>-0.357005</td>\n",
       "    </tr>\n",
       "    <tr>\n",
       "      <th>2</th>\n",
       "      <td>-0.062393</td>\n",
       "      <td>-0.567261</td>\n",
       "      <td>1.878109</td>\n",
       "      <td>-1.060895</td>\n",
       "    </tr>\n",
       "    <tr>\n",
       "      <th>3</th>\n",
       "      <td>-0.570681</td>\n",
       "      <td>0.887939</td>\n",
       "      <td>0.438910</td>\n",
       "      <td>-1.134989</td>\n",
       "    </tr>\n",
       "    <tr>\n",
       "      <th>4</th>\n",
       "      <td>0.954185</td>\n",
       "      <td>-0.141105</td>\n",
       "      <td>1.357317</td>\n",
       "      <td>-0.653379</td>\n",
       "    </tr>\n",
       "  </tbody>\n",
       "</table>\n",
       "</div>"
      ],
      "text/plain": [
       "   Flight_count  Avg_discount  Flight_mileage    Months\n",
       "0      0.191752      1.539425        0.019051 -0.616333\n",
       "1      0.700041     -0.935625        2.427818 -0.357005\n",
       "2     -0.062393     -0.567261        1.878109 -1.060895\n",
       "3     -0.570681      0.887939        0.438910 -1.134989\n",
       "4      0.954185     -0.141105        1.357317 -0.653379"
      ]
     },
     "execution_count": 36,
     "metadata": {},
     "output_type": "execute_result"
    }
   ],
   "source": [
    "data.head()"
   ]
  },
  {
   "cell_type": "code",
   "execution_count": 31,
   "metadata": {},
   "outputs": [],
   "source": [
    "from collections import defaultdict"
   ]
  },
  {
   "cell_type": "code",
   "execution_count": 32,
   "metadata": {},
   "outputs": [],
   "source": [
    "label_dict = defaultdict(int)"
   ]
  },
  {
   "cell_type": "code",
   "execution_count": 33,
   "metadata": {},
   "outputs": [],
   "source": [
    "for label in kmeans.labels_:\n",
    "    label_dict[label] += 1"
   ]
  },
  {
   "cell_type": "code",
   "execution_count": 34,
   "metadata": {},
   "outputs": [
    {
     "data": {
      "text/plain": [
       "defaultdict(int, {1: 5309, 2: 4285, 0: 3685})"
      ]
     },
     "execution_count": 34,
     "metadata": {},
     "output_type": "execute_result"
    }
   ],
   "source": [
    "label_dict"
   ]
  },
  {
   "cell_type": "code",
   "execution_count": 35,
   "metadata": {},
   "outputs": [
    {
     "data": {
      "text/plain": [
       "array([[-0.09521206,  0.01091561, -0.15267825,  1.23850277],\n",
       "       [-0.55286674,  0.5170941 , -0.68403892, -0.59398019],\n",
       "       [ 0.7664525 , -0.64966247,  0.97829365, -0.3296473 ]])"
      ]
     },
     "execution_count": 35,
     "metadata": {},
     "output_type": "execute_result"
    }
   ],
   "source": [
    "kmeans.cluster_centers_"
   ]
  },
  {
   "cell_type": "code",
   "execution_count": null,
   "metadata": {},
   "outputs": [],
   "source": []
  }
 ],
 "metadata": {
  "kernelspec": {
   "display_name": "Python 3 (ipykernel)",
   "language": "python",
   "name": "python3"
  },
  "language_info": {
   "codemirror_mode": {
    "name": "ipython",
    "version": 3
   },
   "file_extension": ".py",
   "mimetype": "text/x-python",
   "name": "python",
   "nbconvert_exporter": "python",
   "pygments_lexer": "ipython3",
   "version": "3.10.10"
  },
  "toc": {
   "base_numbering": 1,
   "nav_menu": {},
   "number_sections": true,
   "sideBar": true,
   "skip_h1_title": false,
   "title_cell": "Table of Contents",
   "title_sidebar": "Contents",
   "toc_cell": false,
   "toc_position": {},
   "toc_section_display": true,
   "toc_window_display": false
  },
  "varInspector": {
   "cols": {
    "lenName": 16,
    "lenType": 16,
    "lenVar": 40
   },
   "kernels_config": {
    "python": {
     "delete_cmd_postfix": "",
     "delete_cmd_prefix": "del ",
     "library": "var_list.py",
     "varRefreshCmd": "print(var_dic_list())"
    },
    "r": {
     "delete_cmd_postfix": ") ",
     "delete_cmd_prefix": "rm(",
     "library": "var_list.r",
     "varRefreshCmd": "cat(var_dic_list()) "
    }
   },
   "position": {
    "height": "382.4px",
    "left": "955px",
    "right": "20px",
    "top": "109px",
    "width": "380.4px"
   },
   "types_to_exclude": [
    "module",
    "function",
    "builtin_function_or_method",
    "instance",
    "_Feature"
   ],
   "window_display": false
  }
 },
 "nbformat": 4,
 "nbformat_minor": 2
}
